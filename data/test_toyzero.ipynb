{
 "cells": [
  {
   "cell_type": "markdown",
   "metadata": {},
   "source": [
    "# Test toyzero data loader"
   ]
  },
  {
   "cell_type": "code",
   "execution_count": 5,
   "metadata": {},
   "outputs": [
    {
     "name": "stdout",
     "output_type": "stream",
     "text": [
      "The autoreload extension is already loaded. To reload it, use:\n",
      "  %reload_ext autoreload\n"
     ]
    }
   ],
   "source": [
    "%load_ext autoreload\n",
    "%autoreload 2\n",
    "\n",
    "import sys\n",
    "sys.path.append('/sdcc/u/yhuang2/PROJs/GAN/pytorch-CycleGAN-and-pix2pix/')\n",
    "from data import create_dataset"
   ]
  },
  {
   "cell_type": "code",
   "execution_count": 6,
   "metadata": {},
   "outputs": [],
   "source": [
    "class options:\n",
    "    \"\"\"\n",
    "    I just list all the options here \n",
    "    \"\"\"\n",
    "    def __init__(self):\n",
    "        # data\n",
    "        self.dataroot = '/sdcc/u/yhuang2/PROJs/GAN/datasets/ls4gan/toyzero_cropped/toyzero_2021-06-29_safi_U/'\n",
    "        self.dataset_mode = 'toyzero'\n",
    "        self.phase = 'train'\n",
    "        assert self.phase in ['train', 'test'], \"Invalid phase, choose from ['train', 'test']\"\n",
    "        self.max_dataset_size = 1000\n",
    "        self.serial_batches = False\n",
    "        self.batch_size = 32\n",
    "        self.num_threads = 1\n",
    "\n",
    "opt = options()"
   ]
  },
  {
   "cell_type": "code",
   "execution_count": 7,
   "metadata": {},
   "outputs": [
    {
     "name": "stdout",
     "output_type": "stream",
     "text": [
      "dataset [ToyzeroDataset] was created\n",
      "0 torch.Size([32, 1, 128, 128])\n",
      "1 torch.Size([32, 1, 128, 128])\n",
      "2 torch.Size([32, 1, 128, 128])\n",
      "3 torch.Size([32, 1, 128, 128])\n",
      "4 torch.Size([32, 1, 128, 128])\n",
      "5 torch.Size([32, 1, 128, 128])\n",
      "6 torch.Size([32, 1, 128, 128])\n",
      "7 torch.Size([32, 1, 128, 128])\n",
      "8 torch.Size([32, 1, 128, 128])\n",
      "9 torch.Size([32, 1, 128, 128])\n",
      "10 torch.Size([32, 1, 128, 128])\n",
      "11 torch.Size([32, 1, 128, 128])\n",
      "12 torch.Size([32, 1, 128, 128])\n",
      "13 torch.Size([32, 1, 128, 128])\n",
      "14 torch.Size([32, 1, 128, 128])\n",
      "15 torch.Size([32, 1, 128, 128])\n",
      "16 torch.Size([32, 1, 128, 128])\n",
      "17 torch.Size([32, 1, 128, 128])\n",
      "18 torch.Size([32, 1, 128, 128])\n",
      "19 torch.Size([32, 1, 128, 128])\n",
      "20 torch.Size([32, 1, 128, 128])\n",
      "21 torch.Size([32, 1, 128, 128])\n",
      "22 torch.Size([32, 1, 128, 128])\n",
      "23 torch.Size([32, 1, 128, 128])\n",
      "24 torch.Size([32, 1, 128, 128])\n",
      "25 torch.Size([32, 1, 128, 128])\n",
      "26 torch.Size([32, 1, 128, 128])\n",
      "27 torch.Size([32, 1, 128, 128])\n",
      "28 torch.Size([32, 1, 128, 128])\n",
      "29 torch.Size([32, 1, 128, 128])\n",
      "30 torch.Size([32, 1, 128, 128])\n",
      "31 torch.Size([8, 1, 128, 128])\n"
     ]
    }
   ],
   "source": [
    "dataset = create_dataset(opt)\n",
    "for i, data in enumerate(dataset):\n",
    "    print(i, data['A'].shape)"
   ]
  },
  {
   "cell_type": "code",
   "execution_count": null,
   "metadata": {},
   "outputs": [],
   "source": []
  }
 ],
 "metadata": {
  "kernelspec": {
   "display_name": "yi_test",
   "language": "python",
   "name": "yi_test"
  },
  "language_info": {
   "codemirror_mode": {
    "name": "ipython",
    "version": 3
   },
   "file_extension": ".py",
   "mimetype": "text/x-python",
   "name": "python",
   "nbconvert_exporter": "python",
   "pygments_lexer": "ipython3",
   "version": "3.9.1"
  }
 },
 "nbformat": 4,
 "nbformat_minor": 4
}
