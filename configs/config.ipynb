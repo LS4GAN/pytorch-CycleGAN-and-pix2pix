{
 "cells": [
  {
   "cell_type": "code",
   "execution_count": 1,
   "metadata": {},
   "outputs": [],
   "source": [
    "import yaml"
   ]
  },
  {
   "cell_type": "code",
   "execution_count": 31,
   "metadata": {},
   "outputs": [],
   "source": [
    "class options:\n",
    "    def __init__(self, option=None, verbose=False):\n",
    "        \n",
    "        # basic attribute\n",
    "        self.gpu_ids = [0]\n",
    "        self.checkpoints_dir = './checkpoints'\n",
    "        self.model = 'cycle_gan'\n",
    "        self.input_nc = 1\n",
    "        self.output_nc = 1\n",
    "        self.ngf = 64\n",
    "        self.ndf = 64\n",
    "        self.netD = 'basic'\n",
    "        self.netG = 'resnet_9blocks'\n",
    "        self.n_layers_D = 3\n",
    "        self.norm = 'instance'\n",
    "        self.init_type = 'normal'\n",
    "        self.init_gain = 0.02\n",
    "        self.no_dropout = True\n",
    "        self.dataset_mode = 'toyzero'\n",
    "        self.direction = 'AtoB'\n",
    "        self.serial_batches = False\n",
    "        self.num_threads = 1\n",
    "        self.batch_size = 32\n",
    "        self.load_size = 286\n",
    "        self.crop_size = 256\n",
    "        self.max_dataset_size = 1000\n",
    "        self.preprocess = 'resize_and_crop'\n",
    "        self.no_flip = False\n",
    "        self.display_winsize = 256\n",
    "        self.epoch = 'latest'\n",
    "        self.load_iter = 0\n",
    "        self.verbose = False\n",
    "        self.suffix = ''\n",
    "        self.display_freq = 400\n",
    "        self.display_ncols = 4\n",
    "        self.display_id = 1\n",
    "        self.display_server = 'http://localhost'\n",
    "        self.display_env = 'main'\n",
    "        self.display_port = 8097\n",
    "        self.update_html_freq = 1000\n",
    "        self.print_freq = 100\n",
    "        self.no_html = False\n",
    "        self.save_latest_freq = 5000\n",
    "        self.save_epoch_freq = 5\n",
    "        self.save_by_iter = False\n",
    "        self.continue_train = False\n",
    "        self.epoch_count = 1\n",
    "        self.phase = 'train'\n",
    "        self.n_epochs = 200\n",
    "        self.n_epochs_decay = 100\n",
    "        self.beta1 = 0.5\n",
    "        self.lr = 0.0002\n",
    "        self.gan_mode = 'lsgan'\n",
    "        self.pool_size = 50\n",
    "        self.lr_policy = 'linear'\n",
    "        self.lr_decay_iters = 50\n",
    "        self.lambda_A = 10.0\n",
    "        self.lambda_B = 10.0\n",
    "        self.lambda_identity = 0.5\n",
    "        self.isTrain = True\n",
    "        \n",
    "        \n",
    "        if option is not None:\n",
    "            if isinstance(option, dict):\n",
    "                self.update(option_dict, verbose=verbose)\n",
    "            elif isinstance(option, str):\n",
    "                self.update_from_yaml(option, verbose=verbose)\n",
    "                \n",
    "        assert hasattr(self, 'dataroot'), \"options must have attribute dataroot\"\n",
    "        assert hasattr(self, 'name'), \"options must have attribute name for saving checkpoints\"\n",
    "        assert (self.phase == 'train' and self.isTrain) or (self.phase == 'test' and not self.isTrain)\n",
    "\n",
    "    def update(self, option_dict, verbose=True):\n",
    "        for key, val in option_dict.items():\n",
    "            if hasattr(self, key):\n",
    "                old_val = getattr(self, key)\n",
    "                if old_val != val:\n",
    "                    setattr(self, key, val)\n",
    "                    if verbose:\n",
    "                        print(f'updated attribute:\\n\\t{key}: {old_val} -> {val}')\n",
    "            else:\n",
    "                setattr(self, key, val)\n",
    "                if verbose:\n",
    "                    print(f'new attribute:\\n\\t{key} = {val}')\n",
    "    \n",
    "    def to_yaml(self, yaml_fname):\n",
    "        with open(yaml_fname, 'w') as handle:\n",
    "            yaml.dump(vars(self), handle)\n",
    "            \n",
    "    def update_from_yaml(self, yaml_fname, verbose=False):\n",
    "        with open(yaml_fname, 'r') as handle:\n",
    "            option_dict = yaml.safe_load(handle)\n",
    "            self.update(option_dict, verbose=verbose)\n",
    "            \n",
    "    def print_options(self):\n",
    "        for key, val in vars(self).items():\n",
    "            print(f'self.{key}={val}')"
   ]
  },
  {
   "cell_type": "code",
   "execution_count": 33,
   "metadata": {},
   "outputs": [
    {
     "name": "stdout",
     "output_type": "stream",
     "text": [
      "new attribute:\n",
      "\tdataroot = /sdcc/u/yhuang2/PROJs/GAN/datasets/ls4gan/toyzero_cropped/stable_toyzero_1001_500-512x512_U\n",
      "updated attribute:\n",
      "\tbatch_size: 32 -> 2\n",
      "new attribute:\n",
      "\tname = toyzero_512x512_2_64\n"
     ]
    }
   ],
   "source": [
    "opt = options('config_toyzero_512x512_2_64.yaml', verbose=True)"
   ]
  },
  {
   "cell_type": "code",
   "execution_count": null,
   "metadata": {},
   "outputs": [],
   "source": []
  }
 ],
 "metadata": {
  "kernelspec": {
   "display_name": "yi_test",
   "language": "python",
   "name": "yi_test"
  },
  "language_info": {
   "codemirror_mode": {
    "name": "ipython",
    "version": 3
   },
   "file_extension": ".py",
   "mimetype": "text/x-python",
   "name": "python",
   "nbconvert_exporter": "python",
   "pygments_lexer": "ipython3",
   "version": "3.9.1"
  }
 },
 "nbformat": 4,
 "nbformat_minor": 4
}
